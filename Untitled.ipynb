{
 "cells": [
  {
   "cell_type": "code",
   "execution_count": 30,
   "metadata": {},
   "outputs": [],
   "source": [
    "import matplotlib.pyplot as plt\n",
    "\n",
    "import numpy"
   ]
  },
  {
   "cell_type": "code",
   "execution_count": 41,
   "metadata": {},
   "outputs": [],
   "source": [
    "x=numpy.random.normal(2.0,1.0,100000)"
   ]
  },
  {
   "cell_type": "code",
   "execution_count": 40,
   "metadata": {},
   "outputs": [
    {
     "data": {
      "text/plain": [
       "(array([1.000e+00, 0.000e+00, 0.000e+00, 0.000e+00, 1.000e+00, 1.000e+00,\n",
       "        1.000e+00, 2.000e+00, 1.000e+00, 3.000e+00, 7.000e+00, 4.000e+00,\n",
       "        9.000e+00, 1.100e+01, 1.500e+01, 2.600e+01, 3.900e+01, 5.000e+01,\n",
       "        5.300e+01, 7.000e+01, 9.200e+01, 1.110e+02, 1.450e+02, 2.080e+02,\n",
       "        2.240e+02, 2.310e+02, 3.530e+02, 4.100e+02, 4.730e+02, 5.320e+02,\n",
       "        6.290e+02, 8.100e+02, 9.480e+02, 9.970e+02, 1.229e+03, 1.386e+03,\n",
       "        1.536e+03, 1.733e+03, 2.007e+03, 2.059e+03, 2.254e+03, 2.550e+03,\n",
       "        2.644e+03, 2.720e+03, 2.906e+03, 3.075e+03, 3.276e+03, 3.383e+03,\n",
       "        3.401e+03, 3.490e+03, 3.596e+03, 3.520e+03, 3.491e+03, 3.462e+03,\n",
       "        3.362e+03, 3.281e+03, 3.170e+03, 2.965e+03, 2.955e+03, 2.630e+03,\n",
       "        2.548e+03, 2.327e+03, 2.093e+03, 1.984e+03, 1.810e+03, 1.517e+03,\n",
       "        1.440e+03, 1.245e+03, 1.026e+03, 9.050e+02, 8.290e+02, 7.020e+02,\n",
       "        5.710e+02, 4.770e+02, 3.850e+02, 2.940e+02, 2.440e+02, 2.210e+02,\n",
       "        1.790e+02, 1.590e+02, 1.130e+02, 9.700e+01, 7.900e+01, 4.500e+01,\n",
       "        4.500e+01, 3.700e+01, 2.800e+01, 1.300e+01, 1.500e+01, 7.000e+00,\n",
       "        8.000e+00, 6.000e+00, 8.000e+00, 1.000e+00, 1.000e+00, 2.000e+00,\n",
       "        0.000e+00, 0.000e+00, 0.000e+00, 1.000e+00]),\n",
       " array([-25.08828092, -24.55755797, -24.02683502, -23.49611207,\n",
       "        -22.96538912, -22.43466617, -21.90394322, -21.37322027,\n",
       "        -20.84249732, -20.31177437, -19.78105142, -19.25032847,\n",
       "        -18.71960552, -18.18888257, -17.65815962, -17.12743668,\n",
       "        -16.59671373, -16.06599078, -15.53526783, -15.00454488,\n",
       "        -14.47382193, -13.94309898, -13.41237603, -12.88165308,\n",
       "        -12.35093013, -11.82020718, -11.28948423, -10.75876128,\n",
       "        -10.22803833,  -9.69731538,  -9.16659243,  -8.63586948,\n",
       "         -8.10514653,  -7.57442358,  -7.04370063,  -6.51297768,\n",
       "         -5.98225473,  -5.45153178,  -4.92080883,  -4.39008588,\n",
       "         -3.85936293,  -3.32863998,  -2.79791703,  -2.26719408,\n",
       "         -1.73647113,  -1.20574818,  -0.67502523,  -0.14430228,\n",
       "          0.38642067,   0.91714362,   1.44786657,   1.97858952,\n",
       "          2.50931247,   3.04003541,   3.57075836,   4.10148131,\n",
       "          4.63220426,   5.16292721,   5.69365016,   6.22437311,\n",
       "          6.75509606,   7.28581901,   7.81654196,   8.34726491,\n",
       "          8.87798786,   9.40871081,   9.93943376,  10.47015671,\n",
       "         11.00087966,  11.53160261,  12.06232556,  12.59304851,\n",
       "         13.12377146,  13.65449441,  14.18521736,  14.71594031,\n",
       "         15.24666326,  15.77738621,  16.30810916,  16.83883211,\n",
       "         17.36955506,  17.90027801,  18.43100096,  18.96172391,\n",
       "         19.49244686,  20.02316981,  20.55389276,  21.08461571,\n",
       "         21.61533866,  22.14606161,  22.67678456,  23.20750751,\n",
       "         23.73823045,  24.2689534 ,  24.79967635,  25.3303993 ,\n",
       "         25.86112225,  26.3918452 ,  26.92256815,  27.4532911 ,\n",
       "         27.98401405]),\n",
       " <a list of 100 Patch objects>)"
      ]
     },
     "execution_count": 40,
     "metadata": {},
     "output_type": "execute_result"
    },
    {
     "data": {
      "image/png": "[encoded data removed]",
      "text/plain": [
       "<Figure size 432x288 with 1 Axes>"
      ]
     },
     "metadata": {
      "needs_background": "light"
     },
     "output_type": "display_data"
    }
   ],
   "source": [
    "plt.hist(x,100)"
   ]
  },
  {
   "cell_type": "code",
   "execution_count": 4,
   "metadata": {},
   "outputs": [],
   "source": [
    "import numpy\n",
    "from scipy import stats\n",
    "import matplotlib.pyplot as plt"
   ]
  },
  {
   "cell_type": "code",
   "execution_count": 5,
   "metadata": {},
   "outputs": [],
   "source": [
    "x = [5,7,8,7,2,17,2,9,4,11,12,9,6]\n",
    "y = [99,86,87,88,111,86,103,87,94,78,77,85,86]"
   ]
  },
  {
   "cell_type": "code",
   "execution_count": 6,
   "metadata": {},
   "outputs": [],
   "source": [
    "slope,intercept,r,p,std_err=stats.linregress(x,y)"
   ]
  },
  {
   "cell_type": "code",
   "execution_count": 7,
   "metadata": {},
   "outputs": [],
   "source": [
    "def myfun(x):\n",
    "    return slope*x + intercept"
   ]
  },
  {
   "cell_type": "code",
   "execution_count": 8,
   "metadata": {},
   "outputs": [],
   "source": [
    "mymodel=list((map(myfun,x)))"
   ]
  },
  {
   "cell_type": "code",
   "execution_count": 9,
   "metadata": {},
   "outputs": [
    {
     "data": {
      "text/plain": [
       "<matplotlib.collections.PathCollection at 0x26bf1fa8e88>"
      ]
     },
     "execution_count": 9,
     "metadata": {},
     "output_type": "execute_result"
    },
    {
     "data": {
      "image/png": "[encoded data removed]",
      "text/plain": [
       "<Figure size 432x288 with 1 Axes>"
      ]
     },
     "metadata": {
      "needs_background": "light"
     },
     "output_type": "display_data"
    }
   ],
   "source": [
    "plt.scatter(x,y)"
   ]
  },
  {
   "cell_type": "code",
   "execution_count": 10,
   "metadata": {},
   "outputs": [
    {
     "data": {
      "text/plain": [
       "[<matplotlib.lines.Line2D at 0x26bf2064948>]"
      ]
     },
     "execution_count": 10,
     "metadata": {},
     "output_type": "execute_result"
    },
    {
     "data": {
      "image/png": "[encoded data removed]",
      "text/plain": [
       "<Figure size 432x288 with 1 Axes>"
      ]
     },
     "metadata": {
      "needs_background": "light"
     },
     "output_type": "display_data"
    }
   ],
   "source": [
    "plt.plot(x,mymodel)"
   ]
  },
  {
   "cell_type": "code",
   "execution_count": 11,
   "metadata": {},
   "outputs": [
    {
     "name": "stdout",
     "output_type": "stream",
     "text": [
      "-0.758591524376155\n"
     ]
    }
   ],
   "source": [
    "print(r)"
   ]
  },
  {
   "cell_type": "code",
   "execution_count": 12,
   "metadata": {},
   "outputs": [],
   "source": [
    "def myfun(x):\n",
    "    return slope*x+intercept"
   ]
  },
  {
   "cell_type": "code",
   "execution_count": 13,
   "metadata": {},
   "outputs": [],
   "source": [
    "kl=myfun(50)"
   ]
  },
  {
   "cell_type": "code",
   "execution_count": 14,
   "metadata": {},
   "outputs": [
    {
     "name": "stdout",
     "output_type": "stream",
     "text": [
      "15.54157468727007\n"
     ]
    }
   ],
   "source": [
    "print(kl)"
   ]
  },
  {
   "cell_type": "code",
   "execution_count": null,
   "metadata": {},
   "outputs": [],
   "source": []
  },
  {
   "cell_type": "code",
   "execution_count": null,
   "metadata": {},
   "outputs": [],
   "source": []
  }
 ],
 "metadata": {
  "kernelspec": {
   "display_name": "Python 3",
   "language": "python",
   "name": "python3"
  },
  "language_info": {
   "codemirror_mode": {
    "name": "ipython",
    "version": 3
   },
   "file_extension": ".py",
   "mimetype": "text/x-python",
   "name": "python",
   "nbconvert_exporter": "python",
   "pygments_lexer": "ipython3",
   "version": "3.7.4"
  }
 },
 "nbformat": 4,
 "nbformat_minor": 2
}
